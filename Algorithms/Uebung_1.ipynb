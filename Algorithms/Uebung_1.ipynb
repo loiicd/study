{
 "cells": [
  {
   "cell_type": "markdown",
   "id": "6d0e4fca",
   "metadata": {},
   "source": [
    "# In Class Übung (Lecture 3): Rekursion\n",
    "\n",
    "### Gruppenmitglieder (1-2 Studierende):\n",
    "\n",
    "\n"
   ]
  },
  {
   "cell_type": "markdown",
   "id": "65d5242e",
   "metadata": {},
   "source": [
    "### 1 Rekursion - einfaches Beispiel\n",
    "\n",
    "\n"
   ]
  },
  {
   "cell_type": "markdown",
   "id": "e312c162",
   "metadata": {},
   "source": [
    "a) Schreiben Sie eine rekursive Funktion, die eine Integer-Zahl als Input nimmt. Die Funktion soll stets 1 abziehen und die Zahl printen. Base case: Bei 0."
   ]
  },
  {
   "cell_type": "code",
   "execution_count": null,
   "id": "cef64938",
   "metadata": {},
   "outputs": [],
   "source": []
  },
  {
   "cell_type": "markdown",
   "id": "339d1332",
   "metadata": {},
   "source": [
    "b) Welche Merkmale gelten für die folgende Funktion? (markiere mit [x])\n",
    "```python\n",
    "def divisible_by_9_below_100(x):\n",
    "    if not x in range(100):\n",
    "        return None\n",
    "    return 1 if x % 9 == 0 else 0\n",
    "```\n",
    "\n",
    "\n",
    "- injektiv  [ ]\n",
    "- surjektiv  [ ]\n",
    "- bijektiv  [ ]\n",
    "\n",
    "\n"
   ]
  },
  {
   "cell_type": "markdown",
   "id": "3a46774e",
   "metadata": {},
   "source": [
    "### 2 Rekursion Fibonacci"
   ]
  },
  {
   "cell_type": "code",
   "execution_count": null,
   "id": "61deefcb",
   "metadata": {},
   "outputs": [],
   "source": [
    "# recursive fibonacci function\n",
    "def fib(n=0):    \n",
    "    if n == 0:\n",
    "        return 0\n",
    "    if n == 1: \n",
    "        return 1\n",
    "    else:\n",
    "        return fib(n-1) + fib(n-2)    "
   ]
  },
  {
   "cell_type": "markdown",
   "id": "3e4d329c",
   "metadata": {},
   "source": [
    "a) Messen Sie die Zeit für die Berechnung von  10, 20 und 30 Fibonacci-Zahlen mit der obigen Funktion. Dafür muss eine Zeitmessfunktion verwendet werden)"
   ]
  },
  {
   "cell_type": "code",
   "execution_count": null,
   "id": "9c4c430b",
   "metadata": {},
   "outputs": [],
   "source": [
    "# your code goes here"
   ]
  },
  {
   "cell_type": "markdown",
   "id": "35081901",
   "metadata": {},
   "source": [
    "b) Implementiere die Funktion `fibImperativ` ohne Rekursion zu nutzen und führe erneut eine Messung durch"
   ]
  },
  {
   "cell_type": "code",
   "execution_count": 1,
   "id": "0de29c83",
   "metadata": {},
   "outputs": [],
   "source": [
    "def fiv_iter(n=0):\n",
    "  fib_1, fib_2 = 0, 1\n",
    "  for i in range(n):\n",
    "    fib_1, fib_2 = fib_2, fib_1 + fib_2\n",
    "  return fib_1"
   ]
  },
  {
   "cell_type": "markdown",
   "id": "34b81f3c",
   "metadata": {},
   "source": [
    "c) Welche Unterschiede lassen sich zw. a) und b) beobachten und wie lassen sich diese erklären?"
   ]
  },
  {
   "cell_type": "markdown",
   "id": "28567e29",
   "metadata": {},
   "source": []
  },
  {
   "cell_type": "markdown",
   "id": "9a964305",
   "metadata": {},
   "source": [
    "### 3 Eigene Funktionen schreiben"
   ]
  },
  {
   "cell_type": "markdown",
   "id": "4402295c",
   "metadata": {},
   "source": [
    "a) Erstelle eine Funktion, mit der mehrere Begriffe in einem Text ersetzt werden könnnen, in dem die Übersetzungen als beschriftete Argumente eingefügt werden können. Siehe dazu den Aufruf in (1), **dieser sollte nicht verändert werden müssen, damit der Output (2) resultiert.**. Das re package darf hier noch nicht verwendet werden ( siehe c)"
   ]
  },
  {
   "cell_type": "code",
   "execution_count": 2,
   "id": "0c4ece09",
   "metadata": {},
   "outputs": [
    {
     "data": {
      "text/plain": [
       "'Imperative programming is a programming approach'"
      ]
     },
     "execution_count": 2,
     "metadata": {},
     "output_type": "execute_result"
    }
   ],
   "source": [
    "def translate(text, **kwargs):\n",
    "    words = text.split()\n",
    "    for i in range(len(words)):\n",
    "        if words[i] in kwargs:\n",
    "            words[i] = kwargs[words[i]]\n",
    "    return \" \".join(words)\n",
    "        \n",
    "# (1)\n",
    "translate('Functional programming is a programming paradigm', Functional='Imperative', paradigm='approach')\n",
    "\n",
    "# (2) expected output: \"Imperative programming is a programming approach\"\n",
    "\n"
   ]
  },
  {
   "cell_type": "markdown",
   "id": "8df9fcb3",
   "metadata": {},
   "source": [
    "b) Was sind die Vor- und Nachteile der erstellten Signatur und wie kann man diese umschreiben, dass einige Nachteile behoben werden?"
   ]
  },
  {
   "cell_type": "markdown",
   "id": "526190be",
   "metadata": {},
   "source": [
    "c) Passe die Funktion in a)/b) so an, dass diese die Wörter ungeachtet ihrer Groß- und Kleinschreibung ersetzt. Versuche eine eigene Implementierung und vergleiche die Performance (durch Wiederholung und Zeitmessung, z.B. mit dem timeit Modul)  mit der Funktion aus a) und einer einfachen Lösung, die das re package benutzt.  "
   ]
  },
  {
   "cell_type": "code",
   "execution_count": null,
   "id": "0ac73c90",
   "metadata": {},
   "outputs": [],
   "source": []
  }
 ],
 "metadata": {
  "kernelspec": {
   "display_name": "Python 3",
   "language": "python",
   "name": "python3"
  },
  "language_info": {
   "codemirror_mode": {
    "name": "ipython",
    "version": 3
   },
   "file_extension": ".py",
   "mimetype": "text/x-python",
   "name": "python",
   "nbconvert_exporter": "python",
   "pygments_lexer": "ipython3",
   "version": "3.11.0"
  }
 },
 "nbformat": 4,
 "nbformat_minor": 5
}
