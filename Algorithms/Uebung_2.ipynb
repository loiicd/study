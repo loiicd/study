{
  "cells": [
   {
    "cell_type": "markdown",
    "id": "524566c7",
    "metadata": {},
    "source": [
     "### Übung 1"
    ]
   },
   {
    "cell_type": "markdown",
    "id": "704d819d",
    "metadata": {},
    "source": [
     "In der Vorlesung hatten wir gesehen, dass der Insertion-Sort Algorithmus eine Laufzeit-Komplexität von $\\theta (n^2)$ aufweist. Leiten Sie dies her. Nehmen Sie dazu den schlechtesten Fall an ('worst case time complexity'). Sie können dabei annehmen, dass die Arbeit für einen Tausch (swap) und einen Vergleich (comparisson) jeweils $\n",
     "**[5 points]**\n",
     "\n",
     "Tipp: Erinnern Sie sich an die \"Geschichte des schlauen Mathematikers\", der die Zahlen geschickt aufaddierte:\n",
     "$$ \\sum_{q=1}^p = \\frac{p \\cdot (p+1)}{2} $$\n",
     "\n",
     "\n",
     "Anmerkung: Sie können die Herleitung in der Markdown Zelle hier machen, oder auf einem Zettel und diesen einscannen."
    ]
   },
   {
    "cell_type": "markdown",
    "id": "0253e0ec",
    "metadata": {},
    "source": []
   },
   {
    "cell_type": "markdown",
    "id": "5f8a4d87",
    "metadata": {},
    "source": [
     "### Übung 2"
    ]
   },
   {
    "cell_type": "markdown",
    "id": "633c623b",
    "metadata": {},
    "source": [
     "a) Schreiben Sie eine Python implementierung eines Insertion-Sort Algoritmus.   \n",
     "**[4 points]**\n",
     "\n",
     "Hinweis: Copy-paste einer Internt-Vorlage zählt nicht."
    ]
   },
   {
    "cell_type": "code",
    "execution_count": 1,
    "id": "201b273d",
    "metadata": {},
    "outputs": [],
    "source": [
     "# your code goes here"
    ]
   },
   {
    "cell_type": "markdown",
    "id": "0d99736d",
    "metadata": {},
    "source": [
     "Weiter ist hier ist eine Implementierung eines Merge-Sort Algorithmus. Sie benötigen sie für Aufgabe 3."
    ]
   },
   {
    "cell_type": "code",
    "execution_count": 2,
    "id": "99304737",
    "metadata": {},
    "outputs": [],
    "source": [
     "# MergeSort in Python -- from https://www.programiz.com/dsa/merge-sort\n",
     "\n",
     "def merge_sort(array):\n",
     "    if len(array) > 1:\n",
     "\n",
     "        #  r is the point where the array is divided into two subarrays\n",
     "        r = len(array)//2\n",
     "        L = array[:r]\n",
     "        M = array[r:]\n",
     "\n",
     "        # Sort the two halves\n",
     "        mergeSort(L)\n",
     "        mergeSort(M)\n",
     "\n",
     "        i = j = k = 0\n",
     "\n",
     "        # Until we reach either end of either L or M, pick larger among\n",
     "        # elements L and M and place them in the correct position at A[p..r]\n",
     "        while i < len(L) and j < len(M):\n",
     "            if L[i] < M[j]:\n",
     "                array[k] = L[i]\n",
     "                i += 1\n",
     "            else:\n",
     "                array[k] = M[j]\n",
     "                j += 1\n",
     "            k += 1\n",
     "\n",
     "        # When we run out of elements in either L or M,\n",
     "        # pick up the remaining elements and put in A[p..r]\n",
     "        while i < len(L):\n",
     "            array[k] = L[i]\n",
     "            i += 1\n",
     "            k += 1\n",
     "\n",
     "        while j < len(M):\n",
     "            array[k] = M[j]\n",
     "            j += 1\n",
     "            k += 1"
    ]
   },
   {
    "cell_type": "markdown",
    "id": "be0c12c2",
    "metadata": {},
    "source": [
     "### Übung 3"
    ]
   },
   {
    "cell_type": "markdown",
    "id": "09fef090",
    "metadata": {},
    "source": [
     "a) Messen Sie die Laufzeiten für beide Algorihmen (Insertion- and Merge-Sort) aus Übung 2 für die Arrays\n",
     "- list(range(100,1,-1))\n",
     "- list(range(1000,1,-1))\n",
     "- list(range(5000,1,-1))\n",
     "- list(range(10000,1,-1))\n",
     "- list(range(25000,1,-1))\n",
     "\n",
     "**[5 points]**\n",
     "\n",
     "Tipp: Um die Laufzeiten Ihrer Algorithmen zu bestimmen, können Sie das timeit oder das time Modul nutzen. Eine \"average-Laufzeit\" Bestimmung ist nicht nötig, sprich ein Durchgang genügt jeweils. Lasten Sie den PC jedoch während der Rechnungen nicht andersweitig aus (z.B. durch andere Programme), um das Ergebnis nicht zu verfälschen."
    ]
   },
   {
    "cell_type": "code",
    "execution_count": 3,
    "id": "96d969b7",
    "metadata": {},
    "outputs": [],
    "source": [
     "# your code goes here\n"
    ]
   },
   {
    "cell_type": "markdown",
    "id": "882ee9a2",
    "metadata": {},
    "source": [
     "b) Plotten Sie die Ergebnisse für Laufzeiten gegen die Inputgröße aus Übung 2 für beide Algorithmen in einem Plot.   \n",
     "**[4 points]**\n",
     "\n",
     "Tipp: Sie können die Matplotlib \"scatter\" Methode verwenden."
    ]
   },
   {
    "cell_type": "code",
    "execution_count": 4,
    "id": "42282cee",
    "metadata": {},
    "outputs": [],
    "source": [
     "# your code goes here"
    ]
   }
  ],
  "metadata": {
   "kernelspec": {
    "display_name": "Python 3 (ipykernel)",
    "language": "python",
    "name": "python3"
   },
   "language_info": {
    "codemirror_mode": {
     "name": "ipython",
     "version": 3
    },
    "file_extension": ".py",
    "mimetype": "text/x-python",
    "name": "python",
    "nbconvert_exporter": "python",
    "pygments_lexer": "ipython3",
    "version": "3.8.3"
   }
  },
  "nbformat": 4,
  "nbformat_minor": 5
 }