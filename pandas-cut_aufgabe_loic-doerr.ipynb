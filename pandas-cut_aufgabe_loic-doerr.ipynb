{
 "cells": [
  {
   "attachments": {},
   "cell_type": "markdown",
   "metadata": {},
   "source": [
    "# Pandas Cut() Aufgabe\n",
    "###### Loïc Dörr (6641596)\n",
    "\n",
    "Gegeben ist ein DataFrame einer Woche mit den jeweiligen Besucherzahlen. Erstelle eine zusätzliche Spalte, welche die Besucherzahlen in \"Voll\" bei 100, \"Stark besucht\" ab 75, \"Mäßig Besucht\" ab 35 und \"Wenig Besucht\" ab 0 gruppiert."
   ]
  },
  {
   "cell_type": "code",
   "execution_count": 3,
   "metadata": {},
   "outputs": [
    {
     "name": "stdout",
     "output_type": "stream",
     "text": [
      "         day  count\n",
      "0     monday     25\n",
      "1    tuesday     70\n",
      "2  tednesday     40\n",
      "3   thursday     90\n",
      "4     friday     55\n",
      "5   saturday     80\n",
      "6     sunday     10\n"
     ]
    }
   ],
   "source": [
    "import pandas as pd\n",
    "\n",
    "df = pd.DataFrame({\n",
    "  'day': ['monday', 'tuesday', 'tednesday', 'thursday', 'friday', 'saturday', 'sunday'],\n",
    "  'visitors': [25, 70, 40, 90, 55, 80, 10]\n",
    "})"
   ]
  }
 ],
 "metadata": {
  "kernelspec": {
   "display_name": "Python 3",
   "language": "python",
   "name": "python3"
  },
  "language_info": {
   "codemirror_mode": {
    "name": "ipython",
    "version": 3
   },
   "file_extension": ".py",
   "mimetype": "text/x-python",
   "name": "python",
   "nbconvert_exporter": "python",
   "pygments_lexer": "ipython3",
   "version": "3.11.0"
  },
  "orig_nbformat": 4
 },
 "nbformat": 4,
 "nbformat_minor": 2
}
