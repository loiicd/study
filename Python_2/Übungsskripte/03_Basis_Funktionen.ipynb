{
 "cells": [
  {
   "attachments": {},
   "cell_type": "markdown",
   "metadata": {},
   "source": [
    "# Aufgabenblatt 3: Funktionen"
   ]
  },
  {
   "attachments": {},
   "cell_type": "markdown",
   "metadata": {},
   "source": [
    "importiere die folgenden Bibliotheken:\n",
    "- importiere pandas\n",
    "- impotiere pandas als pd\n",
    "- importiee alle Module von numpy\n",
    "- importiere von Random das Modul randint"
   ]
  },
  {
   "cell_type": "code",
   "execution_count": null,
   "metadata": {},
   "outputs": [],
   "source": []
  },
  {
   "attachments": {},
   "cell_type": "markdown",
   "metadata": {},
   "source": [
    "## Aufgabe 1: schriebe eigene Funktionen\n",
    "### a) Produkt-Funktion erstellen\n",
    "- Erstelle eine Funktion, welche das Produkt aus einer Liste erstellt mit mindestens `3` Werten. \n",
    "- Aus der Funktion soll zum einen das `Ergebnis`, als auch den Input mit einer print ausgegeben werden"
   ]
  },
  {
   "cell_type": "code",
   "execution_count": null,
   "metadata": {},
   "outputs": [],
   "source": []
  },
  {
   "attachments": {},
   "cell_type": "markdown",
   "metadata": {},
   "source": [
    "### b) Summe-Funktion\n",
    "- Erstelle eine Funktion, welche die Summe aus `4` *Input-Variablen* von den Werten gibt\n",
    "- Wenn in der Funktion ein Wert nicht mit angegeben wird, wird dieser mit 0 in die Funktion gegeben\n",
    "Zeige die verschiedenen Ergebnisse mittels print an"
   ]
  },
  {
   "cell_type": "code",
   "execution_count": null,
   "metadata": {},
   "outputs": [],
   "source": []
  },
  {
   "attachments": {},
   "cell_type": "markdown",
   "metadata": {},
   "source": [
    "### c) Hinzufügen von Werten in die Liste\n",
    "- füge in einer Funktion eine `beliebige Anzahl an Elementen` hinzu:\n",
    "    - diese können z.B. sowohl in einer `Liste, Tuple als auch in einzelnen Werten` übergeben werden\n",
    "    - Paramete im Funktionskopf sollten `appendable_list und append_values` sein \n",
    "<br> \n",
    "Tipp: `append`"
   ]
  },
  {
   "cell_type": "code",
   "execution_count": null,
   "metadata": {},
   "outputs": [],
   "source": []
  },
  {
   "attachments": {},
   "cell_type": "markdown",
   "metadata": {},
   "source": [
    "### d) Erstelle einen Funktion, die multipliziert\n",
    "- Bedingung 1: Der `Eingabewert` ist ein `int oder float` \n",
    "- Bedingung 2: wenn der Eingabewert die Bedingung nicht erfüllt soll ein Fahler ausgegeben werdem. \n",
    "<br> **Tipp:** raise ValueError('Falscher Datentyp der Inputvariable')"
   ]
  },
  {
   "cell_type": "code",
   "execution_count": null,
   "metadata": {},
   "outputs": [],
   "source": []
  },
  {
   "attachments": {},
   "cell_type": "markdown",
   "metadata": {},
   "source": [
    "### e) Berechnen des Flächeninhaltes eines Rechteckes"
   ]
  },
  {
   "cell_type": "code",
   "execution_count": null,
   "metadata": {},
   "outputs": [],
   "source": []
  },
  {
   "attachments": {},
   "cell_type": "markdown",
   "metadata": {},
   "source": [
    "## Aufgabe 3: Build-in-Finktionen\n",
    "### a) Rufe die Build Funktionen für die Listen auf\n",
    "Überlege dir vor dem programmeiren die Ergebnisse für die ``liste``"
   ]
  },
  {
   "cell_type": "code",
   "execution_count": null,
   "metadata": {},
   "outputs": [],
   "source": [
    "liste = [randint(-10,10) for listenelement in range(4)]\n",
    "liste"
   ]
  },
  {
   "attachments": {},
   "cell_type": "markdown",
   "metadata": {},
   "source": [
    "- Was ist der Durchschnittswert?"
   ]
  },
  {
   "cell_type": "code",
   "execution_count": null,
   "metadata": {},
   "outputs": [],
   "source": []
  },
  {
   "attachments": {},
   "cell_type": "markdown",
   "metadata": {},
   "source": [
    "- Was ist die Summe aller  Werte?"
   ]
  },
  {
   "cell_type": "code",
   "execution_count": null,
   "metadata": {},
   "outputs": [],
   "source": []
  },
  {
   "attachments": {},
   "cell_type": "markdown",
   "metadata": {},
   "source": [
    "- Was ist der maximal Wert?"
   ]
  },
  {
   "cell_type": "code",
   "execution_count": null,
   "metadata": {},
   "outputs": [],
   "source": []
  },
  {
   "attachments": {},
   "cell_type": "markdown",
   "metadata": {},
   "source": [
    "- Was ist der minimal wert?"
   ]
  },
  {
   "cell_type": "code",
   "execution_count": null,
   "metadata": {},
   "outputs": [],
   "source": []
  },
  {
   "attachments": {},
   "cell_type": "markdown",
   "metadata": {},
   "source": [
    "- Sortiere die Liste von den Werten absteigend"
   ]
  },
  {
   "cell_type": "code",
   "execution_count": null,
   "metadata": {},
   "outputs": [],
   "source": []
  },
  {
   "attachments": {},
   "cell_type": "markdown",
   "metadata": {},
   "source": [
    "- Sortiere die Liste von den Werten aufsteigend"
   ]
  },
  {
   "cell_type": "code",
   "execution_count": null,
   "metadata": {},
   "outputs": [],
   "source": []
  },
  {
   "attachments": {},
   "cell_type": "markdown",
   "metadata": {},
   "source": [
    "- gebe jedem Element der List einen Index mit Beginnend bei 1"
   ]
  },
  {
   "cell_type": "code",
   "execution_count": null,
   "metadata": {},
   "outputs": [],
   "source": []
  },
  {
   "attachments": {},
   "cell_type": "markdown",
   "metadata": {},
   "source": [
    "``schwerere Aufgaben``\n",
    "- die Summe der liste mit absoluten Werten \n",
    "- gebe von den einzelnen Werten die Potenz wieder"
   ]
  },
  {
   "cell_type": "code",
   "execution_count": null,
   "metadata": {},
   "outputs": [],
   "source": []
  }
 ],
 "metadata": {
  "kernelspec": {
   "display_name": "Python 3",
   "language": "python",
   "name": "python3"
  },
  "language_info": {
   "codemirror_mode": {
    "name": "ipython",
    "version": 3
   },
   "file_extension": ".py",
   "mimetype": "text/x-python",
   "name": "python",
   "nbconvert_exporter": "python",
   "pygments_lexer": "ipython3",
   "version": "3.9.6"
  },
  "orig_nbformat": 4,
  "vscode": {
   "interpreter": {
    "hash": "950a84094df51a4cc90c4a2d841b65fb003dda9cadd63ec86689b6ded8d4e999"
   }
  }
 },
 "nbformat": 4,
 "nbformat_minor": 2
}
