{
 "cells": [
  {
   "attachments": {},
   "cell_type": "markdown",
   "metadata": {},
   "source": [
    "# Aufgabenblatt 2: Kontrollstrukturen"
   ]
  },
  {
   "attachments": {},
   "cell_type": "markdown",
   "metadata": {},
   "source": [
    "- importiere numpy, pandas, random"
   ]
  },
  {
   "cell_type": "code",
   "execution_count": null,
   "metadata": {},
   "outputs": [],
   "source": []
  },
  {
   "attachments": {},
   "cell_type": "markdown",
   "metadata": {},
   "source": [
    "## Aufgabe 1: Verzweigungen `if-elif-else`\n",
    "### a) Wie viele Tage hat ein Monat? -> mit zufälliger Anzahl\n",
    "\n",
    "Entwerfe ein Programm, welches die Anzahl der Tage für den Monat beschreiben. \n",
    "<br>**Die Schaltjahre-Reglung muss ``nicht`` berücksichtigt werden.**\n",
    "<br> <br> Folgende Schritte:\n",
    "\n",
    "* Step 1: Stelle die Frage: `Welcher Monat ist es?`\n",
    "* Step 2: Gebe eine `zufällig` Zahl **zwischen 1 und 12** aus\n",
    "* Step 3: Erstelle die Verzweigungen:\n",
    "    - Die Monate: Januar, März, Mai, Juli, August, Oktober und Dezember haben `31` Tage, \n",
    "    - die Monate April, Juni, September und November haben `30` *und*\n",
    "    - der Februar `28` Tage\n",
    "* Step 4: Gebe das richtige Ergebnis inklusive Monat und Tage aus"
   ]
  },
  {
   "cell_type": "code",
   "execution_count": null,
   "metadata": {},
   "outputs": [],
   "source": []
  },
  {
   "attachments": {},
   "cell_type": "markdown",
   "metadata": {},
   "source": [
    "### b) Wie viele Tage hat ein Monat? inkl. Schaltjahr\n",
    "\n",
    "passe den oben erstellten Code an:\n",
    "* Step 1: ändere die Eingabe von zufällig in manuelle Eingabe. Die Eingabe soll den Wert als `Integer` wiedergeben und das `Monat`\n",
    "* Step 2: neue Frage\n",
    "    - erstelle eine Variable in welcher die manuelle Eingabe gespeichert wird. Die Eingabe soll den Wert als `Integer` wiedergeben und das `Jahr`\n",
    "    - Dementsprechend ist die Frage `Welches Jaht`\n",
    "* Step 3: Berechne ob es sich um ein Schatjahr handelt? Schaltjahre sind: \n",
    "    - wenn das Jahr durch (`4` und `nicht` durch `100`) **oder** (durch `400`) teilbar ist\n",
    "    * **Tipp:** *nutze Verschschtelte Verzweigungen*\n",
    "* Step 4: Gebe abschliessend an, ob es ein Schaltjahr ist oder nicht"
   ]
  },
  {
   "cell_type": "code",
   "execution_count": null,
   "metadata": {},
   "outputs": [],
   "source": []
  },
  {
   "attachments": {},
   "cell_type": "markdown",
   "metadata": {},
   "source": [
    "### c) Aktivität bei Wetter\n",
    "Vorgeben was bei welchem Wetter gemacht werden soll\n",
    "- Step 1: gebe mittels Eingabefeld (`int`) die Temperatur in Fahrenheit an auf eine Frage ein\n",
    "- Step 2: erstelle eine Liste mit den drei Werten `sonnig, wolkig und regenerisch`\n",
    "- Step 3: gebe mittels Eingabefeld (`str`) den Wolkenstand an auf eine Frage ein\n",
    "- Step 4: gebe den berechneten `Fahrenheitswert in Celsius` an und `Runde` diesen auf 2 Nachkommastellen\n",
    "    - **Tipp:** (fahrenheit_input - 32) * 5 / 9\n",
    "- Step 5: prüfe ob die Eingabe des Wolkenstandes in deiner List enthalten ist. \n",
    "    - Bei einem Fahler soll die Information der richtigen werte ausgegeben werden (`jeder Begriff in einer eigenen Zeile`)\n",
    "- Step 6: Aktivitätenbeschriebungen:\n",
    "    - wenn es `unter 0 Grad` ist **und** `sonnig` soll ein Winterspaziergang absolviert sein\n",
    "    - wenn zum einen sowohl es `unter 0 Grad` **und** `wolkig` **oder** `regnerisch` ist **oder** zum anderen `zwischen 0 und 15 Grad` ist und die `Sonne nicht scheint` soll programmiert werden\n",
    "    - wenn es `über 25 Grad` **und** `nicht regnet` soll man rausgehen und das Leben geniessen\n",
    "    - wenn `keine Bedingungen` erfolgt ist kann eine eigene Entscheidung getroffen werden\n",
    "\n",
    "gebe die Lösung in einem String mit `Antwortsatz` und den `Celsius, Wolkentand` und der `unterschiedlichen Aufgaben Werten` wieder"
   ]
  },
  {
   "cell_type": "code",
   "execution_count": null,
   "metadata": {},
   "outputs": [],
   "source": []
  },
  {
   "attachments": {},
   "cell_type": "markdown",
   "metadata": {},
   "source": [
    "### d) Datentypen von Input änden\n",
    "- Erstelle eine Variable bestimme den Datentyp und gebe diesen mittels print aus\n",
    "- anschliessend wandele diese Variable (z.B. von String auf Integer) um oder umgekehrt\n",
    "**Tipp** benutze ``isintance``"
   ]
  },
  {
   "cell_type": "code",
   "execution_count": null,
   "metadata": {},
   "outputs": [],
   "source": []
  },
  {
   "attachments": {},
   "cell_type": "markdown",
   "metadata": {},
   "source": [
    "## Aufgabe 2: ``Schleifen for-loops``"
   ]
  },
  {
   "attachments": {},
   "cell_type": "markdown",
   "metadata": {},
   "source": [
    "### a) Zählen mit einem for loop\n",
    "- Zähle mittels eines for loops von 12 bis 23 und multiplizere die jeweiligen Werte zu einer Summe\n",
    "<br> **Tipp** du benötigst eine Zählvariable\n",
    "<br> *Ergebnis=210*"
   ]
  },
  {
   "cell_type": "code",
   "execution_count": null,
   "metadata": {},
   "outputs": [],
   "source": []
  },
  {
   "attachments": {},
   "cell_type": "markdown",
   "metadata": {},
   "source": [
    "### b) Bestimme für das jeweilige Listenelement den Datentyp mittels for-loop\n",
    "- Itteriere über die Liste mit den Attributen `Python', 1, abs` \n",
    "- gebe aus um was für einen Datentyp es sich handelt"
   ]
  },
  {
   "cell_type": "code",
   "execution_count": null,
   "metadata": {},
   "outputs": [],
   "source": []
  },
  {
   "attachments": {},
   "cell_type": "markdown",
   "metadata": {},
   "source": [
    "### c) Zählen von definierten Zahlen\n",
    "- gebe `50` mal zufällig eine Zahl `zwischen 1 und 25` aus\n",
    "- Gebe die `Summe` der Bedingungen und gebe das `Gesamtergebnis` aus\n",
    "- Die Bedingungen sind:\n",
    "    * Bedingung 1: Alle Werte die durch `3 teilbar` und `ungerade` sind sollen mit der Rundenzahl und der Information der Bedingung ausgegeben werden.\n",
    "    * Bedingung 2: Alle Werte die `gleich 6` sind werden ausgegeben\n",
    "    * Bedingung 3: Alle Werte die `mit sich selbst addiert werden kleiner 7` sind werden ausgegeben"
   ]
  },
  {
   "cell_type": "code",
   "execution_count": null,
   "metadata": {},
   "outputs": [],
   "source": []
  },
  {
   "attachments": {},
   "cell_type": "markdown",
   "metadata": {},
   "source": [
    "### d) for in for --> naesty loop\n",
    "- Zähle von `1 bis 8` für jedes `element_one`\n",
    "- Für das `element_two` soll wiederum bis 8 gezählt werden \n",
    "- Gebe alle Zahlenmöglichkeiten Kombinationen mittels print an, welche in der `Summe kleiner 7` sind\n",
    "*Tipp: Benutze Break*"
   ]
  },
  {
   "cell_type": "code",
   "execution_count": null,
   "metadata": {},
   "outputs": [],
   "source": []
  },
  {
   "attachments": {},
   "cell_type": "markdown",
   "metadata": {},
   "source": [
    "### e) Sternwanderung\n",
    "\n",
    "Erstelle das nachfolgende Bild [ `*` _ _ _ _ ] und lasse den Stern immer einen Schritt weiter und zurück wandern.\n",
    "<BR> Programmiere das mittels for-Schleifen:\n",
    "- [* _ _ _ _ ]\n",
    "- [_ * _ _ _ ]\n",
    "- [_ _ * _ _ ]\n",
    "- [_ _ _ * _ ]\n",
    "- [_ _ _ _ * ]\n",
    "- [_ _ _ _ * ]\n",
    "- [_ _ _ * _ ]\n",
    "- [_ _ * _ _ ]\n",
    "- [_ * _ _ _ ]\n",
    "- [* _ _ _ _ ]\n",
    "- [* _ _ _ _ ]\n",
    "- [_ * _ _ _ ]\n",
    "- [_ _ * _ _ ]\n",
    "- [_ _ _ * _ ]\n",
    "- [_ _ _ _ * ]\n",
    "- [_ _ _ _ * ]\n",
    "- [_ _ _ * _ ]\n",
    "- [_ _ * _ _ ]\n",
    "- [_ * _ _ _ ]\n",
    "- [* _ _ _ _ ]\n"
   ]
  },
  {
   "cell_type": "code",
   "execution_count": null,
   "metadata": {},
   "outputs": [],
   "source": []
  },
  {
   "attachments": {},
   "cell_type": "markdown",
   "metadata": {},
   "source": [
    "#### f) Erweiterung der Aufgabe e)\n",
    "\n",
    "- nun lasse zusätzlich zum Stern eine Taute wandern. Die Raute startet am letzten Element und wander entgegengesetzt zum Stern\n",
    "- wenn sich beide treffen soll ein X beide Elemente ersetzen\n",
    "<BR> [* _ _ _ # ]\n",
    "<BR> [_ * _ # _ ]\n",
    "<BR> [_ _ X _ _ ]\n",
    "<BR> [_ # _ * _ ]\n",
    "<BR> [# _ _ _ * ]\n",
    "<BR> [# _ _ _ * ]\n",
    "<BR> [_ # _ * _ ]\n",
    "<BR> [_ _ X _ _ ]\n",
    "<BR> [_ * _ # _ ]\n",
    "<BR> [* _ _ _ # ]"
   ]
  },
  {
   "cell_type": "code",
   "execution_count": null,
   "metadata": {},
   "outputs": [],
   "source": []
  },
  {
   "attachments": {},
   "cell_type": "markdown",
   "metadata": {},
   "source": [
    "## Aufgabe 3: ``Schleifen while-loops``"
   ]
  },
  {
   "attachments": {},
   "cell_type": "markdown",
   "metadata": {},
   "source": [
    "### a) Berechne die Quadratzahlen aus von `1 bis 8` und gebe die jeweiigen zwischen Ergebnisse aus"
   ]
  },
  {
   "cell_type": "code",
   "execution_count": null,
   "metadata": {},
   "outputs": [],
   "source": []
  },
  {
   "attachments": {},
   "cell_type": "markdown",
   "metadata": {},
   "source": [
    "### b) Addiere die nicht None Werte\n",
    "- itteriere durch die Liste `data` und gebe die Summe der ersten 5 Elemente wieder\n",
    "**Tipp** nutze Continue"
   ]
  },
  {
   "cell_type": "code",
   "execution_count": null,
   "metadata": {},
   "outputs": [],
   "source": []
  },
  {
   "cell_type": "code",
   "execution_count": null,
   "metadata": {},
   "outputs": [],
   "source": []
  },
  {
   "cell_type": "code",
   "execution_count": null,
   "metadata": {},
   "outputs": [],
   "source": []
  },
  {
   "attachments": {},
   "cell_type": "markdown",
   "metadata": {},
   "source": [
    "### c) Erstelle die Aufgabe aus 2c mit einer `while`-Schleife\n",
    "- Des Weiteren erweitere die Aufgabe um einen Break out bei der Zahl `13` und gebe die Durchläufe bisdahin an"
   ]
  },
  {
   "cell_type": "code",
   "execution_count": null,
   "metadata": {},
   "outputs": [],
   "source": []
  },
  {
   "attachments": {},
   "cell_type": "markdown",
   "metadata": {},
   "source": [
    "### d) Rate die richtige Zahl\n",
    "- es solle eine Zufallszahl, zwischen `1 und 30` generiert werden\n",
    "- diese soll in  in `maximal 5 Versuchen` erraten werden\n",
    "- die geratene Zahl als mit Input eingeben. \n",
    "    - zusätzlich soll für jede Zahl ausgeben werden ob diese zu klein oder zu gross ist\n",
    "    - wenn die geratene Zahl richtig ist soll die Zahl, die Anzahl der Versuche und ein Glückwusch ausgegeben werden\n",
    "    - wenn du `mehr als die 5 Versuche` hast soll eine **Fehler** und die Zufallszahl ausgegeben werden"
   ]
  },
  {
   "cell_type": "code",
   "execution_count": null,
   "metadata": {},
   "outputs": [],
   "source": []
  },
  {
   "attachments": {},
   "cell_type": "markdown",
   "metadata": {},
   "source": [
    "### e) Wüefelspiel\n",
    "Erstelle ein Würfelspiel nach folgenden Kriterien:\n",
    "- `3 Spieler` würfeln eine Zahl zwischen `1 bis 6`\n",
    "- Der Spieler mit dem `höchsten Wert` in einer Runde bekommt einen Punkt\n",
    "- Wenn aber `2 Spieler den gleichen Wert` haben, wird in der Runde `kein Punkt` verteilt\n",
    "- Haben `alle 3 Spieler` die gleiche Zahl, wird jedem Spieler ein Punkt `abgezogen`\n",
    "- Der Spieler der zuerst `6 Punkte` erreicht hat `gewonnen`\n",
    "`Gebe an wie viele Runden der Siegergebraucht hat und die Ergeisse der einzelnen Runden`"
   ]
  },
  {
   "cell_type": "code",
   "execution_count": null,
   "metadata": {},
   "outputs": [],
   "source": []
  },
  {
   "attachments": {},
   "cell_type": "markdown",
   "metadata": {},
   "source": [
    "## Aufgabe 4: `Try and catch`\n",
    "### a) Division durch die Listen Elemdente\n",
    "\n",
    "- die Zahl eins soll durch das jeweilige Listenelement `numbers` dividiert werden. Achtung hierbei soll der Code nicht unterbrochen werden und ein Fahler als Notiz ausgeworfen.\n",
    "- numbers = [1.5, 3, 2, 0, 5]"
   ]
  },
  {
   "cell_type": "code",
   "execution_count": null,
   "metadata": {},
   "outputs": [],
   "source": []
  },
  {
   "attachments": {},
   "cell_type": "markdown",
   "metadata": {},
   "source": [
    "#### b) Listenzugriff\n",
    "\n",
    "- Es gibt die Liste: `listen_namen` = ['Kai', 'Ben', 'Flo']\n",
    "- Versuch auf das `4` Element von `listen_namen` zuzugreiffen.\n",
    "    - Gebe ´IndexError´ als catch indikator an und gebe diesen im Print aus"
   ]
  },
  {
   "cell_type": "code",
   "execution_count": null,
   "metadata": {},
   "outputs": [],
   "source": []
  },
  {
   "cell_type": "code",
   "execution_count": null,
   "metadata": {},
   "outputs": [],
   "source": []
  }
 ],
 "metadata": {
  "kernelspec": {
   "display_name": "Python 3",
   "language": "python",
   "name": "python3"
  },
  "language_info": {
   "codemirror_mode": {
    "name": "ipython",
    "version": 3
   },
   "file_extension": ".py",
   "mimetype": "text/x-python",
   "name": "python",
   "nbconvert_exporter": "python",
   "pygments_lexer": "ipython3",
   "version": "3.9.6"
  },
  "orig_nbformat": 4,
  "vscode": {
   "interpreter": {
    "hash": "950a84094df51a4cc90c4a2d841b65fb003dda9cadd63ec86689b6ded8d4e999"
   }
  }
 },
 "nbformat": 4,
 "nbformat_minor": 2
}
