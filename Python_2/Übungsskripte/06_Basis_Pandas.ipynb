{
 "cells": [
  {
   "attachments": {},
   "cell_type": "markdown",
   "metadata": {},
   "source": [
    "# Aufgabenblatt 6: Pandas\n",
    "\n",
    "importiere folgende bibliothelen\n",
    "- pandas\n",
    "- numpy\n",
    "- random\n",
    "- string"
   ]
  },
  {
   "cell_type": "code",
   "execution_count": null,
   "metadata": {},
   "outputs": [],
   "source": []
  },
  {
   "attachments": {},
   "cell_type": "markdown",
   "metadata": {},
   "source": [
    "## Aufgabe 1: erstelle einen eigenen Dataframe\n",
    "### a) Dataframe erstellen mit manueller Eingabe\n",
    "\n",
    "erstelle einen DataFrame `data_1a` mit den Kennzahlen:\n",
    "- Column `column_string_1` mit *'String_1', 'String_2', 'Stirng_3'*\n",
    "- Column `column_mix` mit *'rot', 2, 'blau'*\n",
    "- Column `column_int` mit *1, 2, 2002*\n",
    "- Column `column_float` mit *1.5, 1.7, 1.9*"
   ]
  },
  {
   "cell_type": "code",
   "execution_count": null,
   "metadata": {},
   "outputs": [],
   "source": []
  },
  {
   "attachments": {},
   "cell_type": "markdown",
   "metadata": {},
   "source": [
    "### b) Dateframe erstellen mit zufälligen und automatisch hinzugefügten Werten\n",
    "\n",
    "Erstelle einen Dataframe `data_1b`\n",
    "- der Dataframe hat `4` Columns und `100` Records\n",
    "- der Dataframe hat die Column `column_string` mit *2 zufälligen Buchstaben pro Eintrag*\n",
    "- der Dataframe hat die Column `column_string_2` mit *gebe zufällig den Werten **rot** und **Blau** und der Wert rot soll 75% der Ausprägungen haben*\n",
    "- der Dataframe hat die Column `column_int` mit *zufälligen Werte im Bereich von 1 bis 10*\n",
    "- der Dataframe hat die Column `column_float` mit *zufällige Werte zwischen -100 und 100*\n",
    "<br> <br>*Tipp:* \n",
    "- random.choice, string.ascii_lowercase, random.choices, uniform"
   ]
  },
  {
   "cell_type": "code",
   "execution_count": null,
   "metadata": {},
   "outputs": [],
   "source": []
  },
  {
   "attachments": {},
   "cell_type": "markdown",
   "metadata": {},
   "source": [
    "## Aufgabe 2: merge\n",
    "\n",
    "zusammenführen der beiden Dataframes `data_1a` und `data_1c` (alle Einträge):\n",
    "- über die Column `column_int`, die Funktion `merge` und verwende für die Übungszwecke die verschiedenen Parameter:\n",
    "    - gebe an aus welchem Dataframe kommt der Eintrag\n",
    "    - wenn Columnnamen doppelt vorkommen sollen, diese mit rechts und links erweitert werden\n",
    "\n",
    "<br> 101 rows × 8 columns"
   ]
  },
  {
   "cell_type": "code",
   "execution_count": null,
   "metadata": {},
   "outputs": [],
   "source": []
  },
  {
   "attachments": {},
   "cell_type": "markdown",
   "metadata": {},
   "source": [
    "## Aufgabe 3: Datenimport  und Datenaufbereitung\n",
    "### a) import von csv excel\n",
    "- importiere die csv Datei `2023`"
   ]
  },
  {
   "cell_type": "code",
   "execution_count": null,
   "metadata": {},
   "outputs": [],
   "source": []
  },
  {
   "attachments": {},
   "cell_type": "markdown",
   "metadata": {},
   "source": [
    "- importiere alle sheets aus der Excel_Datei Datei `before_2023`"
   ]
  },
  {
   "cell_type": "code",
   "execution_count": null,
   "metadata": {},
   "outputs": [],
   "source": []
  },
  {
   "attachments": {},
   "cell_type": "markdown",
   "metadata": {},
   "source": [
    "### b) Datenaufbereitung des Dataframes `2023`\n",
    "- schaue dir den neuen Datensatz an? \n",
    "- beschriebe die grösse des Datensatz"
   ]
  },
  {
   "cell_type": "code",
   "execution_count": null,
   "metadata": {},
   "outputs": [],
   "source": []
  },
  {
   "attachments": {},
   "cell_type": "markdown",
   "metadata": {},
   "source": [
    "- betimme mathematisch Werte des Datensatzes"
   ]
  },
  {
   "cell_type": "code",
   "execution_count": null,
   "metadata": {},
   "outputs": [],
   "source": []
  },
  {
   "attachments": {},
   "cell_type": "markdown",
   "metadata": {},
   "source": [
    "- bekomme allgemeine Informationen zum Datensatz Null Werte und Datentypen"
   ]
  },
  {
   "cell_type": "code",
   "execution_count": null,
   "metadata": {},
   "outputs": [],
   "source": []
  },
  {
   "attachments": {},
   "cell_type": "markdown",
   "metadata": {},
   "source": [
    "- schaue dir die esten 5 Einträge an"
   ]
  },
  {
   "cell_type": "code",
   "execution_count": null,
   "metadata": {},
   "outputs": [],
   "source": []
  },
  {
   "attachments": {},
   "cell_type": "markdown",
   "metadata": {},
   "source": [
    "- die Column `Verkaufspreis` und `Einkaufpreis` sollen nur aus Zahlen bestehen und den Datentyp **float** besitzen. entferne die Buchstaben und erstelle einen neuen Dataframe"
   ]
  },
  {
   "cell_type": "code",
   "execution_count": null,
   "metadata": {},
   "outputs": [],
   "source": []
  },
  {
   "attachments": {},
   "cell_type": "markdown",
   "metadata": {},
   "source": [
    "**FORTGESCHRITTEN** \n",
    "- löse das Problem jeweils generisch der Buchstaben in den beiden Columns `Verkaufspreis` und `Einkaufpreis` \n",
    "<br><br>\n",
    "**Tipp** r'\\D' funktioniert nicht, weil es nur Zahlen zurücklässt und '\\d+' weil nur Zsahlen gelöscht werden"
   ]
  },
  {
   "cell_type": "code",
   "execution_count": null,
   "metadata": {},
   "outputs": [],
   "source": []
  },
  {
   "attachments": {},
   "cell_type": "markdown",
   "metadata": {},
   "source": [
    "Alle Columnnamen sollen: \n",
    "- nur aus `Grossbuchtaben` bestehen\n",
    "- Leerzeichen sollen durch `_` ersetzt werden\n",
    "- und Sonderzeichen angepasst werden in z.B. ö zu oe\n",
    "- die Column `Unnamed: 0` kann gelöscht werden\n",
    "<br><br> Records 10.927"
   ]
  },
  {
   "cell_type": "code",
   "execution_count": null,
   "metadata": {},
   "outputs": [],
   "source": []
  },
  {
   "attachments": {},
   "cell_type": "markdown",
   "metadata": {},
   "source": [
    "- entferne die möglichen Doubletten in den Daten\n",
    "<br><br> Records 10.303"
   ]
  },
  {
   "cell_type": "code",
   "execution_count": null,
   "metadata": {},
   "outputs": [],
   "source": []
  },
  {
   "attachments": {},
   "cell_type": "markdown",
   "metadata": {},
   "source": [
    "- entferne alle Einträge, welchen keinen Werte beinhalten \n",
    "<br><br> Records 10.302"
   ]
  },
  {
   "cell_type": "code",
   "execution_count": null,
   "metadata": {},
   "outputs": [],
   "source": []
  },
  {
   "attachments": {},
   "cell_type": "markdown",
   "metadata": {},
   "source": [
    "- Gibt es in den Daten Eintäge ohne Rechnungsnummer? \n",
    "    - Wenn ja wie viele? \n",
    "    - Können diese nachträglich logisch abgeleitet werden aus den Daten, wenn ja bitte befülle die Rechnungsnummern"
   ]
  },
  {
   "cell_type": "code",
   "execution_count": null,
   "metadata": {},
   "outputs": [],
   "source": []
  },
  {
   "attachments": {},
   "cell_type": "markdown",
   "metadata": {},
   "source": [
    "- gebe die `NaN` Werte in einem eigenen Dataframe an, um die Frage der befüllung der Rechnungsnummer besser zu beantworten"
   ]
  },
  {
   "cell_type": "code",
   "execution_count": null,
   "metadata": {},
   "outputs": [],
   "source": []
  },
  {
   "attachments": {},
   "cell_type": "markdown",
   "metadata": {},
   "source": [
    "- Daten die sowohl einen `NaN` Wert bei der `BESTELLNUMMER` als auch bei der `RECHNUNGSNUMMER` sollen aud dem Datensatz entfernt werden\n",
    "<br><br> Records 10.301"
   ]
  },
  {
   "cell_type": "code",
   "execution_count": null,
   "metadata": {},
   "outputs": [],
   "source": []
  },
  {
   "attachments": {},
   "cell_type": "markdown",
   "metadata": {},
   "source": [
    "- Befüllen der NaN Werte in `Rechnungsnummer`"
   ]
  },
  {
   "cell_type": "code",
   "execution_count": null,
   "metadata": {},
   "outputs": [],
   "source": []
  },
  {
   "attachments": {},
   "cell_type": "markdown",
   "metadata": {},
   "source": [
    "- Befüllen der NaN Werte in `Bestellnummer`\n",
    "<br> `TIPP:` apply und lambda"
   ]
  },
  {
   "cell_type": "code",
   "execution_count": null,
   "metadata": {},
   "outputs": [],
   "source": []
  },
  {
   "attachments": {},
   "cell_type": "markdown",
   "metadata": {},
   "source": [
    "`Rechnungsnummern müssen einmalig sein`\n",
    "- Aus diesem Grund sollen jeweils alle gleichen Rechnungsnummern aus dem Datensatz entfernt werden\n",
    "- Erstelle hierfür einen neuen Dataframe `data_2023_unique`\n",
    "<br><br> Records 10.079"
   ]
  },
  {
   "cell_type": "code",
   "execution_count": null,
   "metadata": {},
   "outputs": [],
   "source": []
  },
  {
   "attachments": {},
   "cell_type": "markdown",
   "metadata": {},
   "source": [
    "- befülle die NaN Werte in `RABATT_IN_PROZENT` mit den richtigen Prozenten"
   ]
  },
  {
   "cell_type": "code",
   "execution_count": null,
   "metadata": {},
   "outputs": [],
   "source": []
  },
  {
   "attachments": {},
   "cell_type": "markdown",
   "metadata": {},
   "source": [
    "- befülle die restlichen Wer te von `RABATT_IN_PROZENT` mit der Zahl `0`"
   ]
  },
  {
   "cell_type": "code",
   "execution_count": null,
   "metadata": {},
   "outputs": [],
   "source": []
  },
  {
   "attachments": {},
   "cell_type": "markdown",
   "metadata": {},
   "source": [
    "- befülle die NaN Werte in `LISTENPREIS` mit dem Mittelwert"
   ]
  },
  {
   "cell_type": "code",
   "execution_count": null,
   "metadata": {},
   "outputs": [],
   "source": []
  },
  {
   "attachments": {},
   "cell_type": "markdown",
   "metadata": {},
   "source": [
    "- befülle die NaN Werte mit dem `vorherigen` nicht NaN-Wert in der Column `VERKAUFSPREIS`"
   ]
  },
  {
   "cell_type": "code",
   "execution_count": null,
   "metadata": {},
   "outputs": [],
   "source": []
  },
  {
   "attachments": {},
   "cell_type": "markdown",
   "metadata": {},
   "source": [
    "- befülle die NaN Werte mit dem `nachstehenden` nicht NaN-Wert in der Column `EINKAUFPREIS`"
   ]
  },
  {
   "cell_type": "code",
   "execution_count": null,
   "metadata": {},
   "outputs": [],
   "source": []
  },
  {
   "attachments": {},
   "cell_type": "markdown",
   "metadata": {},
   "source": [
    "- schaue dir die Daten mit info einmal an"
   ]
  },
  {
   "cell_type": "code",
   "execution_count": null,
   "metadata": {},
   "outputs": [],
   "source": []
  },
  {
   "attachments": {},
   "cell_type": "markdown",
   "metadata": {},
   "source": [
    "### c) Datenbearbeitung Wiederholung\n",
    "- filter von dem Dataframe `data_2023_neu_unique alle` die `BESTELLNUMMER` zwischen `10` und `20` raus\n",
    "<br><br> Records 11"
   ]
  },
  {
   "cell_type": "code",
   "execution_count": null,
   "metadata": {},
   "outputs": [],
   "source": []
  },
  {
   "attachments": {},
   "cell_type": "markdown",
   "metadata": {},
   "source": [
    "- entferne alle Records mit den Kundennummern aus der between Aufgabe mittels `isin`\n",
    "<br><br> Records 9.720"
   ]
  },
  {
   "cell_type": "code",
   "execution_count": null,
   "metadata": {},
   "outputs": [],
   "source": []
  },
  {
   "attachments": {},
   "cell_type": "markdown",
   "metadata": {},
   "source": [
    "- sortiere die Daten nach `KUNDENNUMMER`"
   ]
  },
  {
   "cell_type": "code",
   "execution_count": null,
   "metadata": {},
   "outputs": [],
   "source": []
  },
  {
   "attachments": {},
   "cell_type": "markdown",
   "metadata": {},
   "source": [
    "- sortiere die Daten nach `GETRAENK` **absteigend** und `BESTELLNUMMER` **aufsteigend**"
   ]
  },
  {
   "cell_type": "code",
   "execution_count": null,
   "metadata": {},
   "outputs": [],
   "source": []
  },
  {
   "attachments": {},
   "cell_type": "markdown",
   "metadata": {},
   "source": [
    "## Aufgabe 4: Datenzusammenführen\n",
    "### a) führe die Daten `data_2020, data_2021, data_2022 **und** data_2023_neu_unique` zusammen\n",
    "\n",
    "#### fasse die Daten sinnvoll zusammen (Vorbereitung)\n",
    "- schriebe eine Funktion um die Datensätze in die gleiche Columns umzuwandeln (siehe oben) und erstelle jeweile neue Datframes mit dem Titel:\n",
    "    - data_2020_n\n",
    "    - data_2021_n\n",
    "    - data_2022_n"
   ]
  },
  {
   "cell_type": "code",
   "execution_count": null,
   "metadata": {},
   "outputs": [],
   "source": []
  },
  {
   "cell_type": "code",
   "execution_count": null,
   "metadata": {},
   "outputs": [],
   "source": []
  },
  {
   "attachments": {},
   "cell_type": "markdown",
   "metadata": {},
   "source": [
    "- benutze hierfür einmal `concat` und erstelle einen neuen Dataframes `data_all`\n",
    "<br><br> Lösung *25079 rows × 11 columns*"
   ]
  },
  {
   "cell_type": "code",
   "execution_count": null,
   "metadata": {},
   "outputs": [],
   "source": []
  },
  {
   "attachments": {},
   "cell_type": "markdown",
   "metadata": {},
   "source": [
    "- benutze hierfür einmal `append`\n",
    "<br><br> Lösung *25079 rows × 11 columns*"
   ]
  },
  {
   "cell_type": "code",
   "execution_count": null,
   "metadata": {},
   "outputs": [],
   "source": []
  },
  {
   "attachments": {},
   "cell_type": "markdown",
   "metadata": {},
   "source": [
    "# `**ACHTUNG** APPEND NORMALERWEISE NICHT VERWENDEN`"
   ]
  },
  {
   "attachments": {},
   "cell_type": "markdown",
   "metadata": {},
   "source": [
    "- benutze hierfür einmal `merge`\n",
    "<br><br> Lösung *25079 rows × 11 columns*"
   ]
  },
  {
   "cell_type": "code",
   "execution_count": null,
   "metadata": {},
   "outputs": [],
   "source": []
  },
  {
   "attachments": {},
   "cell_type": "markdown",
   "metadata": {},
   "source": [
    "- benutze hierfür einmal `join`\n",
    "- funktioniert das?"
   ]
  },
  {
   "cell_type": "code",
   "execution_count": null,
   "metadata": {},
   "outputs": [],
   "source": []
  },
  {
   "attachments": {},
   "cell_type": "markdown",
   "metadata": {},
   "source": [
    "### b) Newsletter Daten\n",
    "- importiere die Dataframes `news` von den Jahren 2020 bis 2023"
   ]
  },
  {
   "cell_type": "code",
   "execution_count": null,
   "metadata": {},
   "outputs": [],
   "source": []
  },
  {
   "attachments": {},
   "cell_type": "markdown",
   "metadata": {},
   "source": [
    "- setze im Dataframe `news_2020` den index auf `Kd.Nr`"
   ]
  },
  {
   "cell_type": "code",
   "execution_count": null,
   "metadata": {},
   "outputs": [],
   "source": []
  },
  {
   "attachments": {},
   "cell_type": "markdown",
   "metadata": {},
   "source": [
    "- führe die Newsletter Dataframe aus den Jahren `2020, 2021, 2022` zusammen\n",
    "- gebe nur die Kunden wieder die in allen 3 Datensätzen enthalten sind\n",
    "<br><br> Lösung *24 rows × 38 columns*"
   ]
  },
  {
   "cell_type": "code",
   "execution_count": null,
   "metadata": {},
   "outputs": [],
   "source": []
  },
  {
   "attachments": {},
   "cell_type": "markdown",
   "metadata": {},
   "source": [
    "- führe die Newsletter Dataframe aus den Jahren `2023, 2022` zusammen und spiele alle Werte von 2022 an 2023 dran\n",
    "<br><br> Lösung *240 rows × 25 columns*"
   ]
  },
  {
   "cell_type": "code",
   "execution_count": null,
   "metadata": {},
   "outputs": [],
   "source": []
  },
  {
   "attachments": {},
   "cell_type": "markdown",
   "metadata": {},
   "source": [
    "- schreibe **alle** `news_data` in einen neuen Dataframes `news_all_years`\n",
    "- gebe nur eine `Kundennummer` in dem Dataframe als Column\n",
    "- **Tipp** reset index bei dem Dataframe `news_2020`\n",
    "<br><br> Ergebnis 284 rows × 49 columns"
   ]
  },
  {
   "cell_type": "code",
   "execution_count": null,
   "metadata": {},
   "outputs": [],
   "source": []
  },
  {
   "cell_type": "code",
   "execution_count": null,
   "metadata": {},
   "outputs": [],
   "source": []
  },
  {
   "cell_type": "code",
   "execution_count": null,
   "metadata": {},
   "outputs": [],
   "source": []
  },
  {
   "attachments": {},
   "cell_type": "markdown",
   "metadata": {},
   "source": [
    "- füge über die Kundennummern die Daten aus `news_all_years` an die Daten aus `data_all` und speicher diese in dem Datensatz `data_merged_save`\n",
    "<br><br> Ergebnis 25079 rows × 59 columns"
   ]
  },
  {
   "cell_type": "code",
   "execution_count": null,
   "metadata": {},
   "outputs": [],
   "source": []
  },
  {
   "attachments": {},
   "cell_type": "markdown",
   "metadata": {},
   "source": [
    "## Aufgabe 5: schreiben der Daten in csv und excel\n",
    "\n",
    "- speichere den Dataframe `data_merged_save` in einer Excel Datei"
   ]
  },
  {
   "cell_type": "code",
   "execution_count": null,
   "metadata": {},
   "outputs": [],
   "source": []
  },
  {
   "attachments": {},
   "cell_type": "markdown",
   "metadata": {},
   "source": [
    "- speichere den Dataframe `data_merged_save` in einer csv Datei"
   ]
  },
  {
   "cell_type": "code",
   "execution_count": null,
   "metadata": {},
   "outputs": [],
   "source": []
  },
  {
   "attachments": {},
   "cell_type": "markdown",
   "metadata": {},
   "source": [
    "## Aufgabe 6: Datenselektion\n",
    "### a) selektion mittels Datenzusammenführen\n",
    "- erstelle `nur` einen Dataframe von allen Kunden aus den Daten `data_2020`, welche auch Produkte in den anderen `data_2021, data_2022 und data_2023_neu_unique` haben\n",
    "<br><br> Ergebnis 11.653 rows × 11 columns"
   ]
  },
  {
   "cell_type": "code",
   "execution_count": null,
   "metadata": {},
   "outputs": [],
   "source": []
  },
  {
   "cell_type": "code",
   "execution_count": null,
   "metadata": {},
   "outputs": [],
   "source": []
  },
  {
   "attachments": {},
   "cell_type": "markdown",
   "metadata": {},
   "source": [
    "### b) nach Selektionskriterien in Dataframes\n",
    "- selktiere den Dataframe `data_all` nach den folgenden Kriterien\n",
    "#### Der Dataframe soll endeweder:\n",
    "- `nur` die Regionen `EU und Asien` und\n",
    "- nur Kunden mit einer Nummer `grösser/gleich 50` und\n",
    "- das Getränk `nicht gleich Champagner`\n",
    "- es keinen gewärten Rabatt gibt (`= 0`)\n",
    "<br> **oder** <br>\n",
    "- die Destellnummer die Zahl 1 `(1, 10, 21 ..)` enthält\n",
    "<br><br> Ergebnis 15.772 rows × 11 columns"
   ]
  },
  {
   "cell_type": "code",
   "execution_count": null,
   "metadata": {},
   "outputs": [],
   "source": []
  },
  {
   "attachments": {},
   "cell_type": "markdown",
   "metadata": {},
   "source": [
    "#### selktiere den Dataframe `data_2023`\n",
    "- es soll `kein Wert` in der Rechnungsnummer sein **und** `ein Wert` in der Kundennummer\n",
    "<br><br> Ergebnis 8 rows"
   ]
  },
  {
   "cell_type": "code",
   "execution_count": null,
   "metadata": {},
   "outputs": [],
   "source": []
  },
  {
   "attachments": {},
   "cell_type": "markdown",
   "metadata": {},
   "source": [
    "- es soll `ein Wert` in der Rabatt in Prozent sein **oder** `kein Wert` in der Verkaufspreis\n",
    "<br><br> Ergebnis 10.920 rows × 12 columns"
   ]
  },
  {
   "cell_type": "code",
   "execution_count": null,
   "metadata": {},
   "outputs": [],
   "source": []
  }
 ],
 "metadata": {
  "kernelspec": {
   "display_name": "Python 3",
   "language": "python",
   "name": "python3"
  },
  "language_info": {
   "codemirror_mode": {
    "name": "ipython",
    "version": 3
   },
   "file_extension": ".py",
   "mimetype": "text/x-python",
   "name": "python",
   "nbconvert_exporter": "python",
   "pygments_lexer": "ipython3",
   "version": "3.9.6"
  },
  "orig_nbformat": 4,
  "vscode": {
   "interpreter": {
    "hash": "950a84094df51a4cc90c4a2d841b65fb003dda9cadd63ec86689b6ded8d4e999"
   }
  }
 },
 "nbformat": 4,
 "nbformat_minor": 2
}
