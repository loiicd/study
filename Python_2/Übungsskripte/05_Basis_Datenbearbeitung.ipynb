{
 "cells": [
  {
   "attachments": {},
   "cell_type": "markdown",
   "metadata": {},
   "source": [
    "# Aufgabenblatt 5: Datenbearbeitung"
   ]
  },
  {
   "attachments": {},
   "cell_type": "markdown",
   "metadata": {},
   "source": [
    "importiere folgende Bibliotheken:\n",
    "- pandas as pd\n",
    "- numpy as np\n",
    "- import random"
   ]
  },
  {
   "cell_type": "code",
   "execution_count": null,
   "metadata": {},
   "outputs": [],
   "source": []
  },
  {
   "attachments": {},
   "cell_type": "markdown",
   "metadata": {},
   "source": [
    "## Aufgabe 1: Slicing\n",
    "### a) auf Listen\n",
    "- erstelle eine Liste `slice_list` mit den Werten von 1 bis 30"
   ]
  },
  {
   "cell_type": "code",
   "execution_count": null,
   "metadata": {},
   "outputs": [],
   "source": []
  },
  {
   "attachments": {},
   "cell_type": "markdown",
   "metadata": {},
   "source": [
    "- slice auf jedes `zweite` Element startend mit dem `ersten` Element"
   ]
  },
  {
   "cell_type": "code",
   "execution_count": null,
   "metadata": {},
   "outputs": [],
   "source": []
  },
  {
   "attachments": {},
   "cell_type": "markdown",
   "metadata": {},
   "source": [
    "- slice auf jedes `zweite` Element startend mit dem `zweiten` Element"
   ]
  },
  {
   "cell_type": "code",
   "execution_count": null,
   "metadata": {},
   "outputs": [],
   "source": []
  },
  {
   "attachments": {},
   "cell_type": "markdown",
   "metadata": {},
   "source": [
    "- selektiere auf den Bereich von `5-13` und gebe nur jedes `dritte` Element aus"
   ]
  },
  {
   "cell_type": "code",
   "execution_count": null,
   "metadata": {},
   "outputs": [],
   "source": []
  },
  {
   "attachments": {},
   "cell_type": "markdown",
   "metadata": {},
   "source": [
    "- gebe die letzten `vier` Elemente aus"
   ]
  },
  {
   "cell_type": "code",
   "execution_count": null,
   "metadata": {},
   "outputs": [],
   "source": []
  },
  {
   "attachments": {},
   "cell_type": "markdown",
   "metadata": {},
   "source": [
    "- starte beim `fünften` Element und beende beim `vorletzen` Element, wobei nur jedes `vierte` Element angezeigt wird"
   ]
  },
  {
   "cell_type": "code",
   "execution_count": null,
   "metadata": {},
   "outputs": [],
   "source": []
  },
  {
   "attachments": {},
   "cell_type": "markdown",
   "metadata": {},
   "source": [
    "### b) verändere Werte mittels Slice \n",
    "- verwende die `slice_liste` aus `a`\n",
    "- überschriebe die Werte `28` mittels slice in `40`"
   ]
  },
  {
   "cell_type": "code",
   "execution_count": null,
   "metadata": {},
   "outputs": [],
   "source": []
  },
  {
   "attachments": {},
   "cell_type": "markdown",
   "metadata": {},
   "source": [
    "- überschriebe die Werte `10,11,12` mittels slice in `41,42,43`"
   ]
  },
  {
   "cell_type": "code",
   "execution_count": null,
   "metadata": {},
   "outputs": [],
   "source": []
  },
  {
   "attachments": {},
   "cell_type": "markdown",
   "metadata": {},
   "source": [
    "### c) Slice auf String\n",
    "- erstelle den String Satz: `Das ist ein langer Satz zum Testen für das slicen in Strings.`"
   ]
  },
  {
   "cell_type": "code",
   "execution_count": null,
   "metadata": {},
   "outputs": [],
   "source": []
  },
  {
   "attachments": {},
   "cell_type": "markdown",
   "metadata": {},
   "source": [
    "- gebe aus dem Satz mit dem `8` Element jedes `dritte` Element bis auf das `vorletzte` aus\n",
    "<br> <br> **Lösung** 'e nra meef sleiSis'"
   ]
  },
  {
   "cell_type": "code",
   "execution_count": null,
   "metadata": {},
   "outputs": [],
   "source": []
  },
  {
   "attachments": {},
   "cell_type": "markdown",
   "metadata": {},
   "source": [
    "- gebe aus dem String Satz `Satz` zurück\n",
    "- bestimme hierzu mittels for lop den index für das slicen"
   ]
  },
  {
   "cell_type": "code",
   "execution_count": null,
   "metadata": {},
   "outputs": [],
   "source": []
  },
  {
   "cell_type": "code",
   "execution_count": null,
   "metadata": {},
   "outputs": [],
   "source": []
  },
  {
   "attachments": {},
   "cell_type": "markdown",
   "metadata": {},
   "source": [
    "### d) slicen auf einen Dataframe "
   ]
  },
  {
   "cell_type": "code",
   "execution_count": null,
   "metadata": {},
   "outputs": [],
   "source": [
    "df_slice = pd.DataFrame(np.random.randint(1,6, size=(15, 4)), columns=list('ABCD'))\n",
    "df_slice"
   ]
  },
  {
   "attachments": {},
   "cell_type": "markdown",
   "metadata": {},
   "source": [
    "- zeige mittels der `head` Funktion die ersten `3` rows vom DataFrame `df_slice` an"
   ]
  },
  {
   "cell_type": "code",
   "execution_count": null,
   "metadata": {},
   "outputs": [],
   "source": []
  },
  {
   "attachments": {},
   "cell_type": "markdown",
   "metadata": {},
   "source": [
    "- slice den DataFrame `df_slice` auf die Records `3-5`"
   ]
  },
  {
   "cell_type": "code",
   "execution_count": null,
   "metadata": {},
   "outputs": [],
   "source": []
  },
  {
   "attachments": {},
   "cell_type": "markdown",
   "metadata": {},
   "source": [
    "- slice den DataFrame `df_slice` ab row `1-8` und gebe jeden `zweiten` Wert an"
   ]
  },
  {
   "cell_type": "code",
   "execution_count": null,
   "metadata": {},
   "outputs": [],
   "source": []
  },
  {
   "attachments": {},
   "cell_type": "markdown",
   "metadata": {},
   "source": [
    "- slice den Dataframe `df_slice` von der `ersten` row bis einschliesslich der `fünften` row und selektiere dabei die columns `B` und `D`"
   ]
  },
  {
   "cell_type": "code",
   "execution_count": null,
   "metadata": {},
   "outputs": [],
   "source": []
  },
  {
   "attachments": {},
   "cell_type": "markdown",
   "metadata": {},
   "source": [
    "- slice den Dataframe `df_slice` auf die columns `B bis D`"
   ]
  },
  {
   "cell_type": "code",
   "execution_count": null,
   "metadata": {},
   "outputs": [],
   "source": []
  },
  {
   "attachments": {},
   "cell_type": "markdown",
   "metadata": {},
   "source": [
    "### e)  Selektion auf Werte in einem Dataframe\n",
    "- erstelle aus den Dataframe `df_slice` ein Sub-Dataframe, welche die Selektionskriterien in der column `A` gleich `3` ist"
   ]
  },
  {
   "cell_type": "code",
   "execution_count": null,
   "metadata": {},
   "outputs": [],
   "source": []
  },
  {
   "attachments": {},
   "cell_type": "markdown",
   "metadata": {},
   "source": [
    "- erstelle aus den Dataframe `df_slice` ein Sub-Dataframe, welche die Selektionskriterien in der column `B` gleich `2` oder `4` ist"
   ]
  },
  {
   "cell_type": "code",
   "execution_count": null,
   "metadata": {},
   "outputs": [],
   "source": []
  },
  {
   "attachments": {},
   "cell_type": "markdown",
   "metadata": {},
   "source": [
    "- erstelle aus den Dataframe `df_slice` ein Sub-Dataframe, welche die Selektionskriterien in der column `A` gleich `3` und  `B` gleich `5` ist"
   ]
  },
  {
   "cell_type": "code",
   "execution_count": null,
   "metadata": {},
   "outputs": [],
   "source": []
  },
  {
   "attachments": {},
   "cell_type": "markdown",
   "metadata": {},
   "source": [
    "kennst du noch eine andere Schreibweise? für die Aufgabe: \n",
    "- erstelle aus den Dataframe `df_slice` ein Sub-Dataframe, welche die Selektionskriterien in der column `B` gleich `2` oder `4` ist"
   ]
  },
  {
   "cell_type": "code",
   "execution_count": null,
   "metadata": {},
   "outputs": [],
   "source": []
  },
  {
   "attachments": {},
   "cell_type": "markdown",
   "metadata": {},
   "source": [
    "## Aufgabe 2: allgemeine Datenbearbeitung\n",
    "### a) erweiteren und bearbeiten des DataFrames aus `1d)`\n",
    "- reduziere den Datframes `df_slice` auf die Columns `A` und `B`, sowie die ersten `10` Rows und nenne diesen `work_df`"
   ]
  },
  {
   "cell_type": "code",
   "execution_count": null,
   "metadata": {},
   "outputs": [],
   "source": []
  },
  {
   "attachments": {},
   "cell_type": "markdown",
   "metadata": {},
   "source": [
    "- nenne die Columns `A` und `B` in `VALUE_1` und `VALUE_2` im Datframes `work_df` um"
   ]
  },
  {
   "cell_type": "code",
   "execution_count": null,
   "metadata": {},
   "outputs": [],
   "source": []
  },
  {
   "attachments": {},
   "cell_type": "markdown",
   "metadata": {},
   "source": [
    "- füge dem Dataframe `work_df` eine neue Column mit den Namen `GERADE_DIV` mit dem Wert `2` hinzu"
   ]
  },
  {
   "cell_type": "code",
   "execution_count": null,
   "metadata": {},
   "outputs": [],
   "source": []
  },
  {
   "attachments": {},
   "cell_type": "markdown",
   "metadata": {},
   "source": [
    "- kopiere die Column `VALUE_1` in eine neue Column `COPY_VALUE_1` im Dataframe `work_df`"
   ]
  },
  {
   "cell_type": "code",
   "execution_count": null,
   "metadata": {},
   "outputs": [],
   "source": []
  },
  {
   "attachments": {},
   "cell_type": "markdown",
   "metadata": {},
   "source": [
    "- lösche die Column den `VALUE_1` aus dem Dataframe `work_df`"
   ]
  },
  {
   "cell_type": "code",
   "execution_count": null,
   "metadata": {},
   "outputs": [],
   "source": []
  },
  {
   "attachments": {},
   "cell_type": "markdown",
   "metadata": {},
   "source": [
    "- subtrahiere den Wert `VALUE_2` von `COPY_VALUE_1` \n",
    "- schreibe das Ergebnis in eine neue Column mit den Namen `SUB_ERGEBNIS` in den Dataframe `work_df`"
   ]
  },
  {
   "cell_type": "code",
   "execution_count": null,
   "metadata": {},
   "outputs": [],
   "source": []
  },
  {
   "attachments": {},
   "cell_type": "markdown",
   "metadata": {},
   "source": [
    "- entferne als erste alle duplicate in dem ganzen Dataframe `work_df` \n",
    "<br>**ACHTUNG** `auch zur Übung wenn dein work_df keine Doubletten hat`"
   ]
  },
  {
   "cell_type": "code",
   "execution_count": null,
   "metadata": {},
   "outputs": [],
   "source": []
  },
  {
   "attachments": {},
   "cell_type": "markdown",
   "metadata": {},
   "source": [
    "- entferne alle duplicate, auf den Columns `VALUE_2` und `GERADE_DIV` aus dem ganzen Dataframe `work_df` \n",
    "- behalte dabei den `letzten` Eintrag"
   ]
  },
  {
   "cell_type": "code",
   "execution_count": null,
   "metadata": {},
   "outputs": [],
   "source": []
  },
  {
   "attachments": {},
   "cell_type": "markdown",
   "metadata": {},
   "source": [
    "- erstelle für den Dataframe `work_df` einen neuen `Index` beginnend bei 0"
   ]
  },
  {
   "cell_type": "code",
   "execution_count": null,
   "metadata": {},
   "outputs": [],
   "source": []
  },
  {
   "attachments": {},
   "cell_type": "markdown",
   "metadata": {},
   "source": [
    "- erstelle die Summe in einer neuen Column mit dem Namen `SUM` in Dataftrane `work_df`"
   ]
  },
  {
   "cell_type": "code",
   "execution_count": null,
   "metadata": {},
   "outputs": [],
   "source": []
  },
  {
   "attachments": {},
   "cell_type": "markdown",
   "metadata": {},
   "source": [
    "- gebe für die  Column `SUM` im Dataftrane `work_df` jeweils den minmal und den maximal aus"
   ]
  },
  {
   "cell_type": "code",
   "execution_count": null,
   "metadata": {},
   "outputs": [],
   "source": []
  },
  {
   "attachments": {},
   "cell_type": "markdown",
   "metadata": {},
   "source": [
    "- gebe die Mittelwerte für alle Columns aus dem Dataframe `work_df`"
   ]
  },
  {
   "cell_type": "code",
   "execution_count": null,
   "metadata": {},
   "outputs": [],
   "source": []
  },
  {
   "attachments": {},
   "cell_type": "markdown",
   "metadata": {},
   "source": [
    "- Die Column `SUM` soll der neue Index im Dataftrane `work_df` sein\n",
    "- Des Weiteren soll die Column `index` gelöscht werden"
   ]
  },
  {
   "cell_type": "code",
   "execution_count": null,
   "metadata": {},
   "outputs": [],
   "source": []
  },
  {
   "attachments": {},
   "cell_type": "markdown",
   "metadata": {},
   "source": [
    "- erstelle eine neue Column `ROUND` im Dataftrane `work_df`\n",
    "- in der Columns `ROUND` sollen die Column `VALUE_2` durch `COPY_VALUE_1` dividiert werden\n",
    "- Das Ergebnis soll auf 3 Nachkommastellen gerundet werden.  "
   ]
  },
  {
   "cell_type": "code",
   "execution_count": null,
   "metadata": {},
   "outputs": [],
   "source": []
  },
  {
   "attachments": {},
   "cell_type": "markdown",
   "metadata": {},
   "source": [
    "- erstelle eine neue Column `POTENZ` im Dataftrane `work_df`\n",
    "- in der neuen Columns sollen die Potenz von `VALUE_2` auf `COPY_VALUE_1` berechnet werden\n",
    "- das Ergebnis soll auf 1 Stelle vor dem Komma gerundet werden."
   ]
  },
  {
   "cell_type": "code",
   "execution_count": null,
   "metadata": {},
   "outputs": [],
   "source": []
  },
  {
   "attachments": {},
   "cell_type": "markdown",
   "metadata": {},
   "source": [
    "- zähle und gebe die verschiedenen Ausprägungen von `COPY_VALUE_1` im Dataftrane `work_df` aus"
   ]
  },
  {
   "cell_type": "code",
   "execution_count": null,
   "metadata": {},
   "outputs": [],
   "source": []
  },
  {
   "attachments": {},
   "cell_type": "markdown",
   "metadata": {},
   "source": [
    "- gebe den Dataftrane `work_df` gedreht aus"
   ]
  },
  {
   "cell_type": "code",
   "execution_count": null,
   "metadata": {},
   "outputs": [],
   "source": []
  },
  {
   "attachments": {},
   "cell_type": "markdown",
   "metadata": {},
   "source": [
    "### b) Allgemeine Datenanalyse von unbekannten Datensätzen"
   ]
  },
  {
   "cell_type": "code",
   "execution_count": null,
   "metadata": {},
   "outputs": [],
   "source": [
    "from sklearn.datasets import load_wine\n",
    "# Laden der Externen Daten\n",
    "wine_data = load_wine()\n",
    "wine = pd.DataFrame(wine_data.data, columns=wine_data.feature_names)\n",
    "wine.head(3)"
   ]
  },
  {
   "attachments": {},
   "cell_type": "markdown",
   "metadata": {},
   "source": [
    "- bestimme die grösse des Datafranes `wine`"
   ]
  },
  {
   "cell_type": "code",
   "execution_count": null,
   "metadata": {},
   "outputs": [],
   "source": []
  },
  {
   "attachments": {},
   "cell_type": "markdown",
   "metadata": {},
   "source": [
    "- gebe die Columnnamen des Datafranes `wine` an"
   ]
  },
  {
   "cell_type": "code",
   "execution_count": null,
   "metadata": {},
   "outputs": [],
   "source": []
  },
  {
   "attachments": {},
   "cell_type": "markdown",
   "metadata": {},
   "source": [
    "- finde heraus welche Datentypen die jeweiligen Columns im Dataframe `wine` haben"
   ]
  },
  {
   "cell_type": "code",
   "execution_count": null,
   "metadata": {},
   "outputs": [],
   "source": []
  },
  {
   "attachments": {},
   "cell_type": "markdown",
   "metadata": {},
   "source": [
    "- beschriebe den Dataframe `wine` und gebe die verschiedenen mathematischen Funktion wie z.B. `count`, `mmean`,`max`, `min` für alle Columns wieder"
   ]
  },
  {
   "cell_type": "code",
   "execution_count": null,
   "metadata": {},
   "outputs": [],
   "source": []
  },
  {
   "attachments": {},
   "cell_type": "markdown",
   "metadata": {},
   "source": [
    "### c) bearbeiten des Datensatzes `wine`\n",
    "- die Columnnamen in dem Dataframe `wine` sollen grossgeschrieben werden und das Zeichen `/` soll mittels `_` ersetzt werden"
   ]
  },
  {
   "cell_type": "code",
   "execution_count": null,
   "metadata": {},
   "outputs": [],
   "source": []
  },
  {
   "attachments": {},
   "cell_type": "markdown",
   "metadata": {},
   "source": [
    "- sotiere die Werte der Column `ALCOHOL` in dem Dataframe `wine` absteigend"
   ]
  },
  {
   "cell_type": "code",
   "execution_count": null,
   "metadata": {},
   "outputs": [],
   "source": []
  },
  {
   "attachments": {},
   "cell_type": "markdown",
   "metadata": {},
   "source": [
    "- erstelle einen neuen Datframe `sub_wine` aus dem Dataframe `wine`\n",
    "- in dem Dataframe `sub_wine` sollen nur Werte zwischen 12.34 und 13.56 in der Column `ALCOHOL` enthalten sein\n",
    "<br><br> 84 rows"
   ]
  },
  {
   "cell_type": "code",
   "execution_count": null,
   "metadata": {},
   "outputs": [],
   "source": []
  },
  {
   "cell_type": "code",
   "execution_count": null,
   "metadata": {},
   "outputs": [],
   "source": []
  },
  {
   "cell_type": "markdown",
   "metadata": {},
   "source": [
    "- erstelle einen neuen Datframe `sub_wine_alc_color` aus dem Dataframe `sub_wine`, welcher nur aus den columns `ALCOHOL` und `COLOR_INTENSITY` bestehen soll"
   ]
  },
  {
   "cell_type": "code",
   "execution_count": null,
   "metadata": {},
   "outputs": [],
   "source": []
  }
 ],
 "metadata": {
  "kernelspec": {
   "display_name": "Python 3",
   "language": "python",
   "name": "python3"
  },
  "language_info": {
   "codemirror_mode": {
    "name": "ipython",
    "version": 3
   },
   "file_extension": ".py",
   "mimetype": "text/x-python",
   "name": "python",
   "nbconvert_exporter": "python",
   "pygments_lexer": "ipython3",
   "version": "3.9.6"
  },
  "orig_nbformat": 4,
  "vscode": {
   "interpreter": {
    "hash": "950a84094df51a4cc90c4a2d841b65fb003dda9cadd63ec86689b6ded8d4e999"
   }
  }
 },
 "nbformat": 4,
 "nbformat_minor": 2
}
